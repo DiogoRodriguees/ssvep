{
 "cells": [
  {
   "cell_type": "markdown",
   "metadata": {},
   "source": [
    "# Classificação por isolamento de frequência\n",
    "\n",
    "Neste notebook será realizado um exemplo de classificação, isolando todas as frequências estimuladas no conjunto de dados AVI SSVEP simplificado para um participante.\n",
    "\n",
    "### Passos para a realização da classificação:\n",
    "\n",
    "1. Carrega o arquivo fif (mne.EpochsArray);\n",
    "2. Obter a \"energia\" do sinal por meio do cálculo `compute_psd` para os dados no domínio do tempo;\n",
    "4. Com os dados PSD, encontre o valor máximo para cada _trial_ e compare com o valor que está sendo evocado.\n",
    "5. Por fim, acumule os acertos para mostrar uma acurácia simples."
   ]
  },
  {
   "cell_type": "code",
   "execution_count": 8,
   "metadata": {},
   "outputs": [
    {
     "name": "stdout",
     "output_type": "stream",
     "text": [
      "Stored 'values' (dict)\n",
      "\n",
      "Acurácia: 57.00%\n"
     ]
    }
   ],
   "source": [
    "import matplotlib.pyplot as plt\n",
    "\n",
    "%store -r mne_data\n",
    "\n",
    "values = {6: 6, 6.5: 6.5, 7: 7, 7.5: 7.5, 8.2: 8.2, 9.3: 9.3, 10: 10}\n",
    "labels, freqs = list(), list()\n",
    "%store values\n",
    "for i in range(len(mne_data)):\n",
    "    view = mne_data[i].compute_psd(method='multitaper', fmin=3, fmax=13, verbose=False)\n",
    "    viewDF = view.to_data_frame()\n",
    "    freq = viewDF['freq'][viewDF['Oz'] == viewDF['Oz'].max()].values[0]\n",
    "    closest_freq = min(values, key=lambda x: abs(x - freq))\n",
    "\n",
    "    freqs.append(closest_freq)\n",
    "    labels.append(float(viewDF['condition'][0]))\n",
    "print()\n",
    "\n",
    "accs = [1 if freqs[i] == labels[i] else 0 for i in range(len(freqs))]\n",
    "print(f\"Acurácia: {100 * sum(accs)/100:.2f}%\")"
   ]
  }
 ],
 "metadata": {
  "kernelspec": {
   "display_name": ".venv",
   "language": "python",
   "name": "python3"
  },
  "language_info": {
   "codemirror_mode": {
    "name": "ipython",
    "version": 3
   },
   "file_extension": ".py",
   "mimetype": "text/x-python",
   "name": "python",
   "nbconvert_exporter": "python",
   "pygments_lexer": "ipython3",
   "version": "3.8.10"
  }
 },
 "nbformat": 4,
 "nbformat_minor": 2
}
