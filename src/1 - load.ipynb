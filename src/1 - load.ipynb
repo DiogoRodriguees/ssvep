{
 "cells": [
  {
   "cell_type": "markdown",
   "metadata": {},
   "source": [
    "# Carregamento do dataset\n",
    "\n",
    "### Informações gravadas em: https://github.com/bneurd/opt020"
   ]
  },
  {
   "cell_type": "code",
   "execution_count": 2,
   "metadata": {},
   "outputs": [
    {
     "data": {
      "text/plain": [
       "(8192, 10)"
      ]
     },
     "execution_count": 2,
     "metadata": {},
     "output_type": "execute_result"
    }
   ],
   "source": [
    "from scipy.io import loadmat\n",
    "import numpy as np\n",
    "\n",
    "subjects = list()\n",
    "\n",
    "for i in range(0, 5):\n",
    "    subjects.append(list())\n",
    "    subjects[i].append(loadmat(f\"../multi/Sub{i+1}_1_multitarget.mat\"))\n",
    "    subjects[i].append(loadmat(f\"../multi/Sub{i+1}_2_multitarget.mat\"))\n",
    "\n",
    "subjects[0][0][\"Data\"][0][0][7].shape"
   ]
  },
  {
   "cell_type": "code",
   "execution_count": 3,
   "metadata": {},
   "outputs": [
    {
     "name": "stdout",
     "output_type": "stream",
     "text": [
      "(5, 2, 10, 8192)\n",
      "(5, 20, 8192)\n"
     ]
    }
   ],
   "source": [
    "data7, target_frequencies = list(), list()\n",
    "\n",
    "for subject in subjects:\n",
    "    data7.append(list())\n",
    "    target_frequencies.append(list())\n",
    "\n",
    "    for trial in subject:\n",
    "        data7[-1].append(trial[\"Data\"][0][0][7].T)\n",
    "        target_frequencies[-1].append(trial[\"Data\"][0][0][\"TargetFrequency\"][0].T.flatten())\n",
    "\n",
    "data7 = np.array(data7)\n",
    "print(data7.shape)\n",
    "\n",
    "data7 = data7.reshape(5, 2 * 10, 8192)\n",
    "print(data7.shape)"
   ]
  },
  {
   "cell_type": "code",
   "execution_count": 4,
   "metadata": {},
   "outputs": [
    {
     "name": "stdout",
     "output_type": "stream",
     "text": [
      "(5, 2, 10)\n",
      "(5, 20)\n"
     ]
    }
   ],
   "source": [
    "frequencies = np.array(target_frequencies)\n",
    "print(frequencies.shape)\n",
    "\n",
    "frequencies = frequencies.reshape(5, 20)\n",
    "print(frequencies.shape)"
   ]
  },
  {
   "cell_type": "code",
   "execution_count": 5,
   "metadata": {},
   "outputs": [
    {
     "data": {
      "text/plain": [
       "(20, 8192)"
      ]
     },
     "execution_count": 5,
     "metadata": {},
     "output_type": "execute_result"
    }
   ],
   "source": [
    "for i, subject in enumerate(data7):\n",
    "    np.save(f\"./results/data_{i}.npy\", subjects)\n",
    "    np.save(f\"./results/label_{i}.npy\", frequencies[i])\n",
    "\n",
    "data7[0].shape"
   ]
  },
  {
   "cell_type": "markdown",
   "metadata": {},
   "source": [
    "Dado o exemplo acima, faça o carregamento dos cinco participantes, contatenando suas seções ou *trials*. Basta em um `for` externo aumentar a dimensionalidade para a quantidade de participantes e em um `for` interno, concatenar as seções com dez (10) *targets* cada uma.\n",
    "\n",
    "Ao final, teremos um *shape* igual a `(5, 8192, 20)`."
   ]
  },
  {
   "cell_type": "markdown",
   "metadata": {},
   "source": [
    "### Utilizando a biblioteca MNE\n",
    "\n",
    "Nesta etapa, vamos criar um objeto MNE para armazenar os dados juntamente com os labels.\n",
    "\n",
    "Para este tipo de tarefa, é recomendo o uso do objeto Epochs, pois armazena tanto os dados quanto os metadados."
   ]
  },
  {
   "cell_type": "code",
   "execution_count": 8,
   "metadata": {},
   "outputs": [
    {
     "name": "stdout",
     "output_type": "stream",
     "text": [
      "Stored 'n_channels' (int)\n",
      "Stored 'sfreq' (int)\n",
      "Stored 'ch_names' (list)\n",
      "Stored 'ch_types' (list)\n",
      "Stored 'info' (Info)\n"
     ]
    },
    {
     "data": {
      "text/html": [
       "<details open>\n",
       "    <summary><strong>General</strong></summary>\n",
       "    <table class=\"table table-hover table-striped table-sm table-responsive small\">\n",
       "        <tr>\n",
       "            <th>Measurement date</th>\n",
       "            \n",
       "            <td>Unknown</td>\n",
       "            \n",
       "        </tr>\n",
       "        <tr>\n",
       "            <th>Experimenter</th>\n",
       "            \n",
       "            <td>Unknown</td>\n",
       "            \n",
       "        </tr>\n",
       "        <tr>\n",
       "            <th>Participant</th>\n",
       "            \n",
       "            <td>Unknown</td>\n",
       "            \n",
       "        </tr>\n",
       "    </table>\n",
       "    </details>\n",
       "    <details open>\n",
       "        <summary><strong>Channels</strong></summary>\n",
       "        <table class=\"table table-hover table-striped table-sm table-responsive small\">\n",
       "            <tr>\n",
       "                <th>Digitized points</th>\n",
       "                \n",
       "                <td>Not available</td>\n",
       "                \n",
       "            </tr>\n",
       "            <tr>\n",
       "                <th>Good channels</th>\n",
       "                <td>1 EEG</td>\n",
       "            </tr>\n",
       "            <tr>\n",
       "                <th>Bad channels</th>\n",
       "                <td>None</td>\n",
       "            </tr>\n",
       "            <tr>\n",
       "                <th>EOG channels</th>\n",
       "                <td>Not available</td>\n",
       "            </tr>\n",
       "            <tr>\n",
       "                <th>ECG channels</th>\n",
       "                <td>Not available</td>\n",
       "            </tr>\n",
       "        </table>\n",
       "        </details>\n",
       "        <details open>\n",
       "            <summary><strong>Data</strong></summary>\n",
       "            <table class=\"table table-hover table-striped table-sm table-responsive small\">\n",
       "                \n",
       "                <tr>\n",
       "                    <th>Sampling frequency</th>\n",
       "                    <td>512.00 Hz</td>\n",
       "                </tr>\n",
       "                \n",
       "                \n",
       "                <tr>\n",
       "                    <th>Highpass</th>\n",
       "                    <td>0.00 Hz</td>\n",
       "                </tr>\n",
       "                \n",
       "                \n",
       "                <tr>\n",
       "                    <th>Lowpass</th>\n",
       "                    <td>256.00 Hz</td>\n",
       "                </tr>\n",
       "                \n",
       "                \n",
       "                \n",
       "                \n",
       "            </table>\n",
       "            </details>"
      ],
      "text/plain": [
       "<Info | 7 non-empty values\n",
       " bads: []\n",
       " ch_names: Oz\n",
       " chs: 1 EEG\n",
       " custom_ref_applied: False\n",
       " highpass: 0.0 Hz\n",
       " lowpass: 256.0 Hz\n",
       " meas_date: unspecified\n",
       " nchan: 1\n",
       " projs: []\n",
       " sfreq: 512.0 Hz\n",
       ">"
      ]
     },
     "execution_count": 8,
     "metadata": {},
     "output_type": "execute_result"
    }
   ],
   "source": [
    "# inicialmente criamos o objeto info\n",
    "import mne\n",
    "\n",
    "# criação de um objeto \"info\"\n",
    "n_channels = 1\n",
    "sfreq = 512\n",
    "ch_names = [\"Oz\"]\n",
    "ch_types = [\"eeg\"]\n",
    "info = mne.create_info(ch_names, sfreq=sfreq, ch_types=ch_types)\n",
    "%store n_channels\n",
    "%store sfreq\n",
    "%store ch_names\n",
    "%store ch_types\n",
    "%store info\n",
    "info"
   ]
  },
  {
   "cell_type": "code",
   "execution_count": 7,
   "metadata": {},
   "outputs": [
    {
     "name": "stdout",
     "output_type": "stream",
     "text": [
      "(100, 8192)\n",
      "(100, 1, 8192)\n",
      "(100,)\n",
      "Not setting metadata\n",
      "100 matching events found\n",
      "No baseline correction applied\n",
      "0 projection items activated\n"
     ]
    },
    {
     "name": "stdout",
     "output_type": "stream",
     "text": [
      "Stored 'data7' (ndarray)\n",
      "Stored 'mne_data' (EpochsArray)\n"
     ]
    }
   ],
   "source": [
    "# Reshaping data\n",
    "data7 = data7.reshape(5 * 20, 8192)\n",
    "print(data7.shape)\n",
    "\n",
    "data_correct = data7.reshape(data7.shape[0], 1, data7.shape[1])\n",
    "print(data_correct.shape)\n",
    "\n",
    "# Reshaping labels\n",
    "frequencies = frequencies.flatten()\n",
    "print(frequencies.shape)\n",
    "\n",
    "from sklearn.preprocessing import LabelEncoder\n",
    "\n",
    "label_encoder = LabelEncoder()\n",
    "events = np.column_stack(\n",
    "    (\n",
    "        np.array(range(len(frequencies))),\n",
    "        np.zeros(frequencies.shape[0], dtype=int),\n",
    "        label_encoder.fit_transform(frequencies),\n",
    "    )\n",
    ")\n",
    "\n",
    "event_dict = {\"6\": 0, \"6.5\": 1, \"7\": 2, \"7.5\": 3, \"8.2\": 4, \"9.3\": 5}\n",
    "mne_data = mne.EpochsArray(data_correct, info, events, event_id=event_dict)\n",
    "%store data7\n",
    "%store mne_data"
   ]
  }
 ],
 "metadata": {
  "kernelspec": {
   "display_name": ".venv",
   "language": "python",
   "name": "python3"
  },
  "language_info": {
   "codemirror_mode": {
    "name": "ipython",
    "version": 3
   },
   "file_extension": ".py",
   "mimetype": "text/x-python",
   "name": "python",
   "nbconvert_exporter": "python",
   "pygments_lexer": "ipython3",
   "version": "3.8.10"
  }
 },
 "nbformat": 4,
 "nbformat_minor": 2
}
